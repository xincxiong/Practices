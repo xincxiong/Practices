{
 "cells": [
  {
   "cell_type": "code",
   "execution_count": 5,
   "metadata": {},
   "outputs": [
    {
     "name": "stdout",
     "output_type": "stream",
     "text": [
      "INFO:tensorflow:Initialize variable module/embeddings/part_0:0 from checkpoint b'C:\\\\Users\\\\XINXIO~1\\\\AppData\\\\Local\\\\Temp\\\\tfhub_modules\\\\2cdbcae1a547f4fb93475d4b7d4140f8590995b7\\\\variables\\\\variables' with embeddings\n",
      "[[-0.1533291  -0.04329007 -0.03180441 -0.06151943  0.09422044 -0.07181431\n",
      "  -0.05657095 -0.0253176  -0.06859658 -0.02921533  0.02973113 -0.06971684\n",
      "   0.03889366  0.12317787 -0.00699959 -0.01832103 -0.15357894  0.17461599\n",
      "   0.01469229 -0.11814075  0.03747823 -0.10121197  0.01912496 -0.1257468\n",
      "  -0.04848636 -0.03626025  0.064854    0.04992497 -0.00184057 -0.03883221\n",
      "  -0.00200478 -0.03264461 -0.06301142  0.11618936 -0.04323466 -0.14045723\n",
      "   0.16453065 -0.02313955  0.04312888  0.02604597 -0.0990581  -0.15570259\n",
      "   0.06023899 -0.00862557  0.10568998  0.05389624 -0.03701985  0.00789418\n",
      "   0.02968882  0.10804231 -0.01277314 -0.04639595 -0.12630793 -0.0985826\n",
      "   0.06198687 -0.08779609  0.04827078 -0.21621257  0.12145517 -0.01864039\n",
      "  -0.20557317 -0.01435682  0.20754166  0.06567303  0.06609918 -0.17308371\n",
      "   0.08763591 -0.11429138  0.17968635  0.10129962  0.08335435  0.05545573\n",
      "  -0.08254136  0.13654742  0.20180136  0.08617011 -0.03234943  0.02350323\n",
      "   0.07719898 -0.09662214  0.06741185  0.0892216  -0.15393658  0.02180975\n",
      "   0.07202788  0.07676378 -0.02613664 -0.01552442  0.00777228  0.05257047\n",
      "  -0.01592739 -0.11128824 -0.01662252  0.02610238  0.00069311 -0.10169453\n",
      "  -0.15119034  0.04010962 -0.10604057 -0.06407224 -0.13567196  0.19026031\n",
      "   0.03308485 -0.01995004 -0.01972236 -0.10115052  0.02929693 -0.0057665\n",
      "  -0.064447   -0.06016242  0.06991732 -0.01623667  0.08577217 -0.00051278\n",
      "   0.04201164  0.07378785 -0.03253681  0.03135711 -0.04726738 -0.02568128\n",
      "   0.1278362   0.06195564  0.05988941 -0.09091811 -0.07755964  0.01859908\n",
      "   0.15545073 -0.09971796]]\n"
     ]
    }
   ],
   "source": [
    "import tensorflow as tf\n",
    "import tensorflow_hub as hub\n",
    "\n",
    "with tf.Graph().as_default():\n",
    "  embed = hub.Module(\"https://tfhub.dev/google/nnlm-en-dim128-with-normalization/1\")\n",
    "  embeddings = embed([\"xin\"])\n",
    "\n",
    "  with tf.Session() as sess:\n",
    "    sess.run(tf.global_variables_initializer())\n",
    "    sess.run(tf.tables_initializer())\n",
    "\n",
    "    print(sess.run(embeddings))"
   ]
  },
  {
   "cell_type": "code",
   "execution_count": 6,
   "metadata": {},
   "outputs": [
    {
     "data": {
      "text/plain": [
       "TensorShape([Dimension(None), Dimension(128)])"
      ]
     },
     "execution_count": 6,
     "metadata": {},
     "output_type": "execute_result"
    }
   ],
   "source": [
    "embeddings.shape"
   ]
  },
  {
   "cell_type": "code",
   "execution_count": null,
   "metadata": {
    "collapsed": true
   },
   "outputs": [],
   "source": []
  },
  {
   "cell_type": "code",
   "execution_count": null,
   "metadata": {
    "collapsed": true
   },
   "outputs": [],
   "source": []
  },
  {
   "cell_type": "code",
   "execution_count": null,
   "metadata": {
    "collapsed": true
   },
   "outputs": [],
   "source": []
  },
  {
   "cell_type": "code",
   "execution_count": null,
   "metadata": {
    "collapsed": true
   },
   "outputs": [],
   "source": []
  }
 ],
 "metadata": {
  "kernelspec": {
   "display_name": "Python 3",
   "language": "python",
   "name": "python3"
  },
  "language_info": {
   "codemirror_mode": {
    "name": "ipython",
    "version": 3
   },
   "file_extension": ".py",
   "mimetype": "text/x-python",
   "name": "python",
   "nbconvert_exporter": "python",
   "pygments_lexer": "ipython3",
   "version": "3.5.4"
  }
 },
 "nbformat": 4,
 "nbformat_minor": 2
}
