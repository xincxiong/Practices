{
 "cells": [
  {
   "cell_type": "markdown",
   "metadata": {},
   "source": [
    "- the input is first fed to fully connected layers, then , a softmax function is applied to output probabilities of multiple output classes.\n",
    "- "
   ]
  },
  {
   "cell_type": "code",
   "execution_count": null,
   "metadata": {},
   "outputs": [],
   "source": [
    "# model configuration\n",
    "import paddle.v2 as paddle\n",
    "\n"
   ]
  },
  {
   "cell_type": "code",
   "execution_count": 5,
   "metadata": {},
   "outputs": [
    {
     "name": "stdout",
     "output_type": "stream",
     "text": [
      "Downloading data from https://github.com/fchollet/deep-learning-models/releases/download/v0.4/xception_weights_tf_dim_ordering_tf_kernels.h5\n",
      "91889664/91884032 [==============================] - 131s 1us/step\n",
      "91897856/91884032 [==============================] - 131s 1us/step\n"
     ]
    }
   ],
   "source": [
    "from keras.applications import ResNet50,Xception\n",
    "from keras.models import Model,load_model\n",
    "model = Xception(include_top=True, weights='imagenet', input_tensor=None, input_shape=None, pooling=None, classes=1000)\n",
    "#import keras.applications\n",
    "#dir(keras.applications)"
   ]
  },
  {
   "cell_type": "code",
   "execution_count": 6,
   "metadata": {},
   "outputs": [],
   "source": [
    "model.save('xception')"
   ]
  },
  {
   "cell_type": "code",
   "execution_count": 10,
   "metadata": {},
   "outputs": [],
   "source": [
    "# softmax function\n",
    "def softmax_regression(img):\n",
    "    predict = paddle.layer.fc(input=img,\n",
    "                              size=10,\n",
    "                              act=paddle.activation.Softmax())\n",
    "    return predict"
   ]
  },
  {
   "cell_type": "code",
   "execution_count": 11,
   "metadata": {},
   "outputs": [],
   "source": [
    "# multi-layer pertron:which has two hidden fully-connected layers. one with ReLU\n",
    "# and another with softmax activation.\n",
    "def multilayer_perceptron(img):\n",
    "    hidden1 = paddle.layer.fc(input=img, size=128, act=paddle.activation.Relu())\n",
    "    hidden2 = paddle.layer.fc(input=hidden1,\n",
    "                              size=64,\n",
    "                              act=paddle.activation.Relu())\n",
    "    predict = paddle.layer.fc(input=hidden2,\n",
    "                              size=10,\n",
    "                              act=paddle.activation.Softmax())\n",
    "    return predict"
   ]
  },
  {
   "cell_type": "code",
   "execution_count": null,
   "metadata": {},
   "outputs": [],
   "source": [
    "# convolutional network LeNet-5\n",
    "# two convolution-pooling layers, a fully-connected layer, and the softmax output layer.\n",
    "def convolutional_neural_network(img):\n",
    "\n",
    "    conv_pool_1 = paddle.networks.simple_img_conv_pool(\n",
    "        input=img,\n",
    "        filter_size=5,\n",
    "        num_filters=20,\n",
    "        num_channel=1,\n",
    "        pool_size=2,\n",
    "        pool_stride=2,\n",
    "        act=paddle.activation.Relu())\n",
    "\n",
    "    conv_pool_2 = paddle.networks.simple_img_conv_pool(\n",
    "        input=conv_pool_1,\n",
    "        filter_size=5,\n",
    "        num_filters=50,\n",
    "        num_channel=20,\n",
    "        pool_size=2,\n",
    "        pool_stride=2,\n",
    "        act=paddle.activation.Relu())\n",
    "\n",
    "    predict = paddle.layer.fc(input=conv_pool_2,\n",
    "                              size=10,\n",
    "                              act=paddle.activation.Softmax())\n",
    "    return predict"
   ]
  },
  {
   "cell_type": "code",
   "execution_count": null,
   "metadata": {},
   "outputs": [],
   "source": [
    "# layer.data for reading data.\n",
    "\n",
    "paddle.init(use_gpu=False, trainer_count=1)\n",
    "\n",
    "images = paddle.layer.data(\n",
    "    name='pixel', type=paddle.data_type.dense_vector(784))\n",
    "label = paddle.layer.data(\n",
    "    name='label', type=paddle.data_type.integer_value(10))\n",
    "\n",
    "# predict = softmax_regression(images)\n",
    "# predict = multilayer_perceptron(images) # uncomment for MLP\n",
    "predict = convolutional_neural_network(images) # uncomment for LeNet5\n",
    "\n",
    "cost = paddle.layer.classification_cost(input=predict, label=label)"
   ]
  },
  {
   "cell_type": "code",
   "execution_count": null,
   "metadata": {},
   "outputs": [],
   "source": [
    "# specify training parameters.\n",
    "parameters = paddle.parameters.create(cost)\n",
    "\n",
    "optimizer = paddle.optimizer.Momentum(\n",
    "    learning_rate=0.1 / 128.0,\n",
    "    momentum=0.9,\n",
    "    regularization=paddle.optimizer.L2Regularization(rate=0.0005 * 128))\n",
    "\n",
    "trainer = paddle.trainer.SGD(cost=cost,\n",
    "                             parameters=parameters,\n",
    "                             update_equation=optimizer)"
   ]
  },
  {
   "cell_type": "code",
   "execution_count": null,
   "metadata": {},
   "outputs": [],
   "source": [
    "from paddle.v2.plot import Ploter\n",
    "\n",
    "train_title = \"Train cost\"\n",
    "test_title = \"Test cost\"\n",
    "cost_ploter = Ploter(train_title, test_title)\n",
    "\n",
    "step = 0\n",
    "\n",
    "# event_handler to plot a figure\n",
    "def event_handler_plot(event):\n",
    "    global step\n",
    "    if isinstance(event, paddle.event.EndIteration):\n",
    "        if step % 100 == 0:\n",
    "            cost_ploter.append(train_title, step, event.cost)\n",
    "            cost_ploter.plot()\n",
    "        step += 1\n",
    "    if isinstance(event, paddle.event.EndPass):\n",
    "        # save parameters\n",
    "        with open('params_pass_%d.tar' % event.pass_id, 'w') as f:\n",
    "            trainer.save_parameter_to_tar(f)\n",
    "\n",
    "        result = trainer.test(reader=paddle.batch(\n",
    "            paddle.dataset.mnist.test(), batch_size=128))\n",
    "        cost_ploter.append(test_title, step, result.cost)"
   ]
  },
  {
   "cell_type": "code",
   "execution_count": null,
   "metadata": {},
   "outputs": [],
   "source": [
    "lists = []\n",
    "\n",
    "# event handler to print the progress\n",
    "def event_handler(event):\n",
    "    if isinstance(event, paddle.event.EndIteration):\n",
    "        if event.batch_id % 100 == 0:\n",
    "            print \"Pass %d, Batch %d, Cost %f, %s\" % (\n",
    "                event.pass_id, event.batch_id, event.cost, event.metrics)\n",
    "    if isinstance(event, paddle.event.EndPass):\n",
    "        # save parameters\n",
    "        with open('params_pass_%d.tar' % event.pass_id, 'w') as f:\n",
    "            trainer.save_parameter_to_tar(f)\n",
    "\n",
    "        result = trainer.test(reader=paddle.batch(\n",
    "            paddle.dataset.mnist.test(), batch_size=128))\n",
    "        print \"Test with Pass %d, Cost %f, %s\\n\" % (\n",
    "            event.pass_id, result.cost, result.metrics)\n",
    "        lists.append((event.pass_id, result.cost,\n",
    "                      result.metrics['classification_error_evaluator']))"
   ]
  },
  {
   "cell_type": "code",
   "execution_count": null,
   "metadata": {},
   "outputs": [],
   "source": [
    "# Train the model now\n",
    "trainer.train(\n",
    "    reader=paddle.batch(\n",
    "        paddle.reader.shuffle(\n",
    "            paddle.dataset.mnist.train(), buf_size=8192),\n",
    "        batch_size=128),\n",
    "    event_handler=event_handler_plot,\n",
    "    num_passes=5)"
   ]
  },
  {
   "cell_type": "code",
   "execution_count": null,
   "metadata": {},
   "outputs": [],
   "source": []
  },
  {
   "cell_type": "code",
   "execution_count": null,
   "metadata": {},
   "outputs": [],
   "source": [
    "# find the best pass\n",
    "best = sorted(lists, key=lambda list: float(list[1]))[0]\n",
    "print 'Best pass is %s, testing Avgcost is %s' % (best[0], best[1])\n",
    "print 'The classification accuracy is %.2f%%' % (100 - float(best[2]) * 100)"
   ]
  },
  {
   "cell_type": "code",
   "execution_count": null,
   "metadata": {},
   "outputs": [],
   "source": []
  },
  {
   "cell_type": "code",
   "execution_count": null,
   "metadata": {},
   "outputs": [],
   "source": [
    "# application\n",
    "from PIL import Image\n",
    "import numpy as np\n",
    "import os\n",
    "def load_image(file):\n",
    "    im = Image.open(file).convert('L')\n",
    "    im = im.resize((28, 28), Image.ANTIALIAS)\n",
    "    im = np.array(im).astype(np.float32).flatten()\n",
    "    im = im / 255.0 * 2.0 - 1.0\n",
    "    return im\n",
    "\n",
    "test_data = []\n",
    "cur_dir = os.getcwd()\n",
    "test_data.append((load_image(cur_dir + '/image/infer_3.png'),))\n",
    "\n",
    "probs = paddle.infer(\n",
    "    output_layer=predict, parameters=parameters, input=test_data)\n",
    "lab = np.argsort(-probs) # probs and lab are the results of one batch data\n",
    "print \"Label of image/infer_3.png is: %d\" % lab[0][0]\n"
   ]
  },
  {
   "cell_type": "code",
   "execution_count": null,
   "metadata": {},
   "outputs": [],
   "source": []
  },
  {
   "cell_type": "code",
   "execution_count": null,
   "metadata": {},
   "outputs": [],
   "source": []
  },
  {
   "cell_type": "code",
   "execution_count": null,
   "metadata": {},
   "outputs": [],
   "source": []
  },
  {
   "cell_type": "code",
   "execution_count": null,
   "metadata": {},
   "outputs": [],
   "source": []
  },
  {
   "cell_type": "code",
   "execution_count": null,
   "metadata": {},
   "outputs": [],
   "source": []
  },
  {
   "cell_type": "code",
   "execution_count": null,
   "metadata": {},
   "outputs": [],
   "source": []
  },
  {
   "cell_type": "code",
   "execution_count": null,
   "metadata": {},
   "outputs": [],
   "source": []
  },
  {
   "cell_type": "code",
   "execution_count": null,
   "metadata": {},
   "outputs": [],
   "source": []
  },
  {
   "cell_type": "code",
   "execution_count": null,
   "metadata": {},
   "outputs": [],
   "source": []
  },
  {
   "cell_type": "code",
   "execution_count": null,
   "metadata": {},
   "outputs": [],
   "source": []
  },
  {
   "cell_type": "code",
   "execution_count": null,
   "metadata": {},
   "outputs": [],
   "source": []
  }
 ],
 "metadata": {
  "kernelspec": {
   "display_name": "Python 2",
   "language": "python",
   "name": "python2"
  },
  "language_info": {
   "codemirror_mode": {
    "name": "ipython",
    "version": 2
   },
   "file_extension": ".py",
   "mimetype": "text/x-python",
   "name": "python",
   "nbconvert_exporter": "python",
   "pygments_lexer": "ipython2",
   "version": "2.7.14"
  }
 },
 "nbformat": 4,
 "nbformat_minor": 2
}
